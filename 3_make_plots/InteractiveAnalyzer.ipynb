{
 "cells": [
  {
   "cell_type": "code",
   "execution_count": null,
   "metadata": {},
   "outputs": [],
   "source": [
    "import os\n",
    "import sys\n",
    "\n",
    "module_path = os.path.abspath(os.path.join('../2_analyze'))\n",
    "if module_path not in sys.path:\n",
    "    sys.path.append(module_path)\n",
    "import analyse\n",
    "from IPython.display import display, clear_output"
   ]
  },
  {
   "cell_type": "code",
   "execution_count": null,
   "metadata": {
    "scrolled": true
   },
   "outputs": [],
   "source": [
    "import matplotlib\n",
    "matplotlib.use('Agg')\n",
    "import matplotlib.pyplot as plt\n",
    "import numpy as np\n",
    "# %matplotlib inline"
   ]
  },
  {
   "cell_type": "code",
   "execution_count": null,
   "metadata": {},
   "outputs": [],
   "source": [
    "import math"
   ]
  },
  {
   "cell_type": "code",
   "execution_count": null,
   "metadata": {},
   "outputs": [],
   "source": [
    "p_directory='../1_experiment/RunResults/experiment_5.2/'"
   ]
  },
  {
   "cell_type": "code",
   "execution_count": null,
   "metadata": {},
   "outputs": [],
   "source": [
    "def prepare_res(inds, results, border):\n",
    "    inds = inds[1:]\n",
    "    results = results[1:]\n",
    "    new_inds = []\n",
    "    new_results = []\n",
    "    for i, r in zip(inds, results):\n",
    "        if i > border:\n",
    "            break\n",
    "        new_inds.append(i)\n",
    "        new_results.append(r)\n",
    "    return new_inds, new_results"
   ]
  },
  {
   "cell_type": "code",
   "execution_count": null,
   "metadata": {},
   "outputs": [],
   "source": [
    "def get_all_results():\n",
    "    mega_dict = {}\n",
    "    f_list = [('1', 100), ('2', 100), ('4', 50), ('7', 100), ('9', 100), ('11', 50), ('14', 100), ('16', 100)]\n",
    "    for func_id, best_f in f_list:\n",
    "#     for func_id, best_f in [('1', 100), ('2', 100), ('4', 50), ('5', 90), ('6', 33), ('7', 100), ('8', 51), ('9', 100), ('10', 100), ('11', 50), ('12', 90), ('13', 33), ('14', 100), ('15', 51), ('16', 100), ('17', 100)]:\n",
    "        directory = p_directory + func_id\n",
    "        ress = {}\n",
    "\n",
    "        fls = [fl for fl in os.listdir(directory + '/all_zips') if fl.endswith('zip')]\n",
    "        for i, fl in enumerate(fls):\n",
    "            clear_output(wait=True)\n",
    "            sys.stdout.write('func_id:\\t' + func_id + '\\n')\n",
    "            sys.stdout.write(('%.0f' % (float(i*100) / len(fls))) + '%\\tAnalyzing:\\t' + fl + '\\n')\n",
    "            sys.stdout.flush()\n",
    "            ress[fl] = analyse.process_zip(directory + '/all_zips/' + fl, best_f)\n",
    "        mega_dict[func_id] = ress\n",
    "    return mega_dict"
   ]
  },
  {
   "cell_type": "code",
   "execution_count": null,
   "metadata": {
    "scrolled": true
   },
   "outputs": [],
   "source": [
    "%%time\n",
    "omega_res = get_all_results()"
   ]
  },
  {
   "cell_type": "code",
   "execution_count": null,
   "metadata": {},
   "outputs": [],
   "source": [
    "def borders(func_id):\n",
    "    return 50000\n",
    "#     if func_id == '1':\n",
    "#         return 2000\n",
    "#     if func_id == '2':\n",
    "#         return 10000\n",
    "#     return 50000"
   ]
  },
  {
   "cell_type": "code",
   "execution_count": null,
   "metadata": {},
   "outputs": [],
   "source": [
    "def y_borders(func_id):\n",
    "    if func_id == '1':\n",
    "        return 48, 102\n",
    "    if func_id == '4':\n",
    "        return 23, 52\n",
    "    if func_id == '7':\n",
    "        return 35, 102\n",
    "    if func_id == '9':\n",
    "        return 35, 102\n",
    "    if func_id == '2':\n",
    "        return -20, 102\n",
    "    if func_id == '11':\n",
    "        return -7, 52\n",
    "    if func_id == '14':\n",
    "        return -20, 102\n",
    "    if func_id == '16':\n",
    "        return -20, 102\n",
    "    \n",
    "    if func_id == '5':\n",
    "        return 40, 92\n",
    "    if func_id == '6':\n",
    "        return 15, 35\n",
    "    if func_id == '8':\n",
    "        return 20, 52\n",
    "    if func_id == '10':\n",
    "        return -2, 102\n",
    "    if func_id == '12':\n",
    "        return -4, 92\n",
    "    if func_id == '13':\n",
    "        return -2, 35\n",
    "    if func_id == '15':\n",
    "        return  -2, 52\n",
    "    if func_id == '17':\n",
    "        return -2, 102\n",
    "    \n",
    "    return -2, 102"
   ]
  },
  {
   "cell_type": "code",
   "execution_count": null,
   "metadata": {},
   "outputs": [],
   "source": [
    "alg_desc_mapping={\n",
    "    '_stat.zip': '$(1+1)EA_{\\\\frac{1}{n}}$',\n",
    "    '_stat_rea_1.zip': 'REA 1 $(1+1)EA_{\\\\frac{1}{n}}$',\n",
    "    '_stat_rea_5.zip': 'REA 5 $(1+1)EA_{\\\\frac{1}{n}}$',\n",
    "    '_statmin.zip': '$(1+1)EA_{\\\\frac{1}{n^2}}$',\n",
    "    '_ab.zip': '$(1+1)EA_{A,b}$',\n",
    "    '_ab_rea_1.zip': 'REA 1 $(1+1)EA_{A,b}$',\n",
    "    '_ab_rea_5.zip': 'REA 5 $(1+1)EA_{A,b}$',\n",
    "    '_abopt.zip': '$(1+1)EA_{A=1.68,b=\\\\frac{1}{1.5}}$',\n",
    "    '_aboptopt.zip': '$(1+1)EA_{A=1.06,b=\\\\frac{1}{1.05}}$',\n",
    "    '_abstrictinequality.zip': '$(1+1)EA_{{A,b}_>}$'\n",
    "}"
   ]
  },
  {
   "cell_type": "code",
   "execution_count": null,
   "metadata": {},
   "outputs": [],
   "source": [
    "def plot_color(ind):\n",
    "    return \"C\" + str(ind % 10)"
   ]
  },
  {
   "cell_type": "code",
   "execution_count": null,
   "metadata": {},
   "outputs": [],
   "source": [
    "def plot_best_fitness(path, inds, results, alg_names=['_stat.zip', '_ab.zip'], freq='t_0', name='dunno', l_b=-2, u_b=102):\n",
    "    if not os.path.exists(os.path.join(path, 'all_zips', 'comb_graphs')):\n",
    "        os.mkdir(os.path.join(path, 'all_zips', 'comb_graphs'))\n",
    "    if not os.path.exists(os.path.join(path, 'all_zips', 'comb_graphs', 'best_fitness')):\n",
    "        os.mkdir(os.path.join(path, 'all_zips', 'comb_graphs', 'best_fitness'))\n",
    "    \n",
    "    fig = plt.figure()\n",
    "    for i in range(0, len(inds), len(alg_names)):\n",
    "        for j in range(0, len(alg_names)):\n",
    "            plt.plot(inds[i+j], results[i+j], plot_color(j))\n",
    "    plt.xlabel('evaluations', fontsize='xx-large')\n",
    "    plt.ylabel('best f(x) since change', fontsize='xx-large')\n",
    "    plt.grid(True)\n",
    "    ax = plt.gca()\n",
    "    ax.set_ylim(l_b, u_b)\n",
    "    ax.legend(tuple(alg_desc_mapping[alg_name] for alg_name in alg_names), loc='lower right')\n",
    "    ax.text(0.1, 0.1, freq if freq != 't_0' else 'static', \n",
    "            horizontalalignment='center',\n",
    "            verticalalignment='center',\n",
    "            transform = ax.transAxes,\n",
    "            fontsize='xx-large',\n",
    "            bbox={'facecolor':'white', 'edgecolor':'grey', 'alpha':0.8})\n",
    "\n",
    "#     ax.annotate('static', fontsize='xx-large', xy=(5000, 82), xytext=(0, 90),\n",
    "#                 arrowprops=dict(facecolor='black', arrowstyle='simple'))\n",
    "#     ax.annotate('50', fontsize='xx-large', xy=(5000, 50), xytext=(0, 40),\n",
    "#                 arrowprops=dict(facecolor='black', arrowstyle='simple'))\n",
    "\n",
    "#     ax.annotate('static', fontsize='xx-large', xy=(2300, 60), xytext=(0, 80),\n",
    "#                 arrowprops=dict(facecolor='black', arrowstyle='simple'))\n",
    "#     ax.annotate('10', fontsize='xx-large', xy=(1000, 0), xytext=(0, -15),\n",
    "#                 arrowprops=dict(facecolor='black', arrowstyle='simple'))\n",
    "    plt.savefig(os.path.join(path, 'all_zips', 'comb_graphs', 'best_fitness', (name + '.png')), dpi=200)\n",
    "    plt.close('all')"
   ]
  },
  {
   "cell_type": "code",
   "execution_count": null,
   "metadata": {},
   "outputs": [],
   "source": [
    "def plot_mutation_rate(path, inds, mutation_rate, alg_names=['_stat.zip', '_ab.zip'], freq='t_0', name='dunno'):\n",
    "    if not os.path.exists(os.path.join(path, 'all_zips', 'comb_graphs')):\n",
    "        os.mkdir(os.path.join(path, 'all_zips', 'comb_graphs'))\n",
    "    if not os.path.exists(os.path.join(path, 'all_zips', 'comb_graphs', 'mutation_rate')):\n",
    "        os.mkdir(os.path.join(path, 'all_zips', 'comb_graphs', 'mutation_rate'))\n",
    "\n",
    "    mutation_rate = list(map(lambda lst: list(map(math.log2, lst)), mutation_rate))\n",
    "    fig = plt.figure()\n",
    "    for i in range(0, len(inds), len(alg_names)):\n",
    "        for j in range(0, len(alg_names)):\n",
    "            plt.plot(inds[i+j], mutation_rate[i+j], plot_color(j))\n",
    "    plt.xlabel('evaluations', fontsize='xx-large')\n",
    "    plt.ylabel('mutation rate', fontsize='xx-large')\n",
    "    plt.grid(True)\n",
    "    ax = plt.gca()\n",
    "    ax.legend(tuple(alg_desc_mapping[alg_name] for alg_name in alg_names), loc='upper right')\n",
    "    ax.text(0.1, 0.1, freq if freq != 't_0' else 'static', \n",
    "            horizontalalignment='center',\n",
    "            verticalalignment='center',\n",
    "            transform = ax.transAxes,\n",
    "            fontsize='xx-large',\n",
    "            bbox={'facecolor':'white', 'edgecolor':'grey', 'alpha':0.8})\n",
    "    plt.savefig(os.path.join(path, 'all_zips', 'comb_graphs', 'mutation_rate', (name + '.png')), dpi=200)\n",
    "    plt.close('all')"
   ]
  },
  {
   "cell_type": "code",
   "execution_count": null,
   "metadata": {},
   "outputs": [],
   "source": [
    "def plot_func(func_id, keys):\n",
    "    algorithms = ['_ab.zip', '_ab_rea_1.zip', '_ab_rea_5.zip']\n",
    "    \n",
    "    f_res = omega_res[func_id]\n",
    "\n",
    "    name = ''\n",
    "    for i in range(len(keys)):\n",
    "        name += keys[i][4:]\n",
    "        name += '&'\n",
    "    name = name[:-1]\n",
    "    \n",
    "    inds = [f_res[key+suff][0] for key in keys for suff in algorithms]\n",
    "    results = [f_res[key+suff][1] for key in keys for suff in algorithms]\n",
    "    mutation_rate = [f_res[key+suff][3] for key in keys for suff in algorithms]\n",
    "    rea_mode_on = [f_res[key+suff][4] for key in keys for suff in algorithms]\n",
    "\n",
    "    \n",
    "    prep_inds, prep_res = zip(*[prepare_res(ind, result, borders(func_id)) for ind, result in zip(inds, results)])\n",
    "    prep_ind_mr, prep_mr = zip(*[prepare_res(ind, mutation_rate, borders(func_id)) for ind, mutation_rate in zip(inds, mutation_rate)])\n",
    "    l_b, u_b = y_borders(func_id)\n",
    "    plot_best_fitness(p_directory+func_id, prep_inds, prep_res, alg_names=algorithms, freq=keys[i][11:], name=name, l_b=l_b, u_b=u_b)\n",
    "    plot_mutation_rate(p_directory+func_id, prep_ind_mr, prep_mr, alg_names=algorithms, freq=keys[i][11:], name=name)"
   ]
  },
  {
   "cell_type": "code",
   "execution_count": null,
   "metadata": {},
   "outputs": [],
   "source": [
    "keys = ['001-fit_bi_5', '001-fit_bi_50', '001-fit_bi_500', '001-fit_bi_5000']\n",
    "keys += ['001-fit_pm_5', '001-fit_pm_50', '001-fit_pm_500', '001-fit_pm_5000']\n",
    "# keys=[]\n",
    "# keys += ['001-fit_bi_1', '001-fit_bi_10', '001-fit_bi_100', '001-fit_bi_1000']\n",
    "# keys += ['001-fit_pm_1', '001-fit_pm_10', '001-fit_pm_100', '001-fit_pm_1000']\n",
    "\n",
    "# keys = ['001-fit_pm_10']\n",
    "keys += ['001-fit_stat_0']\n",
    "print(keys)"
   ]
  },
  {
   "cell_type": "code",
   "execution_count": null,
   "metadata": {},
   "outputs": [],
   "source": [
    "%%time\n",
    "for key in keys:\n",
    "    plot_func('1', [key])\n",
    "    plot_func('4', [key])\n",
    "    plot_func('7', [key])\n",
    "    plot_func('9', [key])\n",
    "    plot_func('2', [key])\n",
    "    plot_func('11', [key])\n",
    "    plot_func('14', [key])\n",
    "    plot_func('16', [key])"
   ]
  },
  {
   "cell_type": "code",
   "execution_count": null,
   "metadata": {},
   "outputs": [],
   "source": [
    "for key in keys:\n",
    "    plot_func('5', [key])\n",
    "    plot_func('6', [key])\n",
    "    plot_func('8', [key])\n",
    "    plot_func('10', [key])\n",
    "    plot_func('12', [key])\n",
    "    plot_func('13', [key])\n",
    "    plot_func('15', [key])\n",
    "    plot_func('17', [key])"
   ]
  },
  {
   "cell_type": "code",
   "execution_count": null,
   "metadata": {
    "scrolled": true
   },
   "outputs": [],
   "source": [
    "plot_func('1', keys)"
   ]
  },
  {
   "cell_type": "code",
   "execution_count": null,
   "metadata": {},
   "outputs": [],
   "source": [
    "plot_func('4', keys)"
   ]
  },
  {
   "cell_type": "code",
   "execution_count": null,
   "metadata": {
    "scrolled": true
   },
   "outputs": [],
   "source": [
    "plot_func('7', keys)"
   ]
  },
  {
   "cell_type": "code",
   "execution_count": null,
   "metadata": {
    "scrolled": true
   },
   "outputs": [],
   "source": [
    "plot_func('9', keys)"
   ]
  },
  {
   "cell_type": "code",
   "execution_count": null,
   "metadata": {
    "scrolled": false
   },
   "outputs": [],
   "source": [
    "plot_func('2', keys)"
   ]
  },
  {
   "cell_type": "code",
   "execution_count": null,
   "metadata": {},
   "outputs": [],
   "source": [
    "plot_func('11', keys)"
   ]
  },
  {
   "cell_type": "code",
   "execution_count": null,
   "metadata": {
    "scrolled": true
   },
   "outputs": [],
   "source": [
    "plot_func('14', keys)"
   ]
  },
  {
   "cell_type": "code",
   "execution_count": null,
   "metadata": {
    "scrolled": true
   },
   "outputs": [],
   "source": [
    "plot_func('16', keys)"
   ]
  },
  {
   "cell_type": "code",
   "execution_count": null,
   "metadata": {
    "scrolled": true
   },
   "outputs": [],
   "source": [
    "plot_func('5', keys)"
   ]
  },
  {
   "cell_type": "code",
   "execution_count": null,
   "metadata": {},
   "outputs": [],
   "source": [
    "plot_func('6', keys)"
   ]
  },
  {
   "cell_type": "code",
   "execution_count": null,
   "metadata": {
    "scrolled": true
   },
   "outputs": [],
   "source": [
    "plot_func('8', keys)"
   ]
  },
  {
   "cell_type": "code",
   "execution_count": null,
   "metadata": {
    "scrolled": true
   },
   "outputs": [],
   "source": [
    "plot_func('10', keys)"
   ]
  },
  {
   "cell_type": "code",
   "execution_count": null,
   "metadata": {
    "scrolled": false
   },
   "outputs": [],
   "source": [
    "plot_func('12', keys)"
   ]
  },
  {
   "cell_type": "code",
   "execution_count": null,
   "metadata": {},
   "outputs": [],
   "source": [
    "plot_func('13', keys)"
   ]
  },
  {
   "cell_type": "code",
   "execution_count": null,
   "metadata": {
    "scrolled": true
   },
   "outputs": [],
   "source": [
    "plot_func('15', keys)"
   ]
  },
  {
   "cell_type": "code",
   "execution_count": null,
   "metadata": {
    "scrolled": true
   },
   "outputs": [],
   "source": [
    "plot_func('17', keys)"
   ]
  },
  {
   "cell_type": "code",
   "execution_count": null,
   "metadata": {},
   "outputs": [],
   "source": [
    "import wilkoxon\n",
    "\n",
    "def get_wilk_results():\n",
    "    mega_dict = {}\n",
    "    for func_id, best_f in [('2', 100)]:\n",
    "#     for func_id, best_f in [('1', 100), ('2', 100), ('4', 50), ('5', 90), ('6', 33), ('7', 100), ('8', 51), ('9', 100), ('10', 100), ('11', 50), ('12', 90), ('13', 33), ('14', 100), ('15', 51), ('16', 100), ('17', 100)]:\n",
    "        directory = p_directory + func_id\n",
    "        ress = {}\n",
    "\n",
    "        fls = [fl for fl in os.listdir(directory + '/all_zips') if fl.endswith('zip')]\n",
    "#         print fls\n",
    "        sys.stdout.write('\\n')\n",
    "        for i, fl in enumerate(fls):\n",
    "            sys.stdout.write('\\r\\033[K\\033[1F\\033[K' + ('%.0f' % (float(i*100) / len(fls))) + '%\\tAnalyzing:\\t' + fl + '\\n')\n",
    "            sys.stdout.flush()\n",
    "            ress[fl] = wilkoxon.process_zip(directory + '/all_zips/' + fl, best_f)\n",
    "        mega_dict[func_id] = ress\n",
    "    return mega_dict"
   ]
  },
  {
   "cell_type": "code",
   "execution_count": null,
   "metadata": {},
   "outputs": [],
   "source": [
    "w_omega_dict=get_wilk_results()"
   ]
  },
  {
   "cell_type": "code",
   "execution_count": null,
   "metadata": {},
   "outputs": [],
   "source": [
    "print w_omega_dict.keys()"
   ]
  },
  {
   "cell_type": "code",
   "execution_count": null,
   "metadata": {},
   "outputs": [],
   "source": [
    "from scipy.stats import mannwhitneyu\n",
    "\n",
    "x_inds = w_omega_dict['2']['001-fit_bi_100_stat.zip'][0]\n",
    "xx = w_omega_dict['2']['001-fit_bi_100_stat.zip'][1]\n",
    "y_inds = w_omega_dict['2']['001-fit_bi_100_ab.zip'][0]\n",
    "yy = w_omega_dict['2']['001-fit_bi_100_ab.zip'][1]\n",
    "\n",
    "print len(xx[0])\n",
    "print len(yy[0])\n",
    "\n",
    "\n",
    "\n",
    "pppp = []\n",
    "for i in range(len(xx)):\n",
    "    if (i % 100 == 0):\n",
    "        continue\n",
    "    res, p_val = mannwhitneyu(x=xx[i], y=yy[i], alternative='less')\n",
    "    pppp.append(p_val)\n",
    "if not os.path.exists('wilk_graphs'):\n",
    "    os.mkdir('wilk_graphs')\n",
    "fig = plt.figure()\n",
    "plt.yscale('log')\n",
    "plt.plot([p_v for p_v in pppp if p_v is not None], '#1f77b4')\n",
    "plt.xlabel('evaluation', fontsize='xx-large')\n",
    "plt.ylabel('wilk_res', fontsize='xx-large')\n",
    "plt.grid(True)\n",
    "ax = plt.gca()\n",
    "# ax.set_ylim(l_b, u_b)\n",
    "# ax.legend(('$(1+1)EA$','$(1+1)EA_{A,b}$'), loc='lower right')\n",
    "# plt.savefig(os.path.join(path, 'all_zips', 'comb_graphs', 'changes', (name + '.png')), dpi=100)\n",
    "plt.savefig(os.path.join('wilk_graphs', ('wilkoxon.png')), dpi=100)\n",
    "plt.close('all')"
   ]
  },
  {
   "cell_type": "code",
   "execution_count": null,
   "metadata": {},
   "outputs": [],
   "source": []
  }
 ],
 "metadata": {
  "kernelspec": {
   "display_name": "Python 3",
   "language": "python",
   "name": "python3"
  },
  "language_info": {
   "codemirror_mode": {
    "name": "ipython",
    "version": 3
   },
   "file_extension": ".py",
   "mimetype": "text/x-python",
   "name": "python",
   "nbconvert_exporter": "python",
   "pygments_lexer": "ipython3",
   "version": "3.7.3"
  }
 },
 "nbformat": 4,
 "nbformat_minor": 2
}
